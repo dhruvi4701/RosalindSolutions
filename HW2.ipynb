{
  "nbformat": 4,
  "nbformat_minor": 0,
  "metadata": {
    "colab": {
      "provenance": [],
      "authorship_tag": "ABX9TyOs1hIhPchQ87xo+gF/sBuW",
      "include_colab_link": true
    },
    "kernelspec": {
      "name": "python3",
      "display_name": "Python 3"
    },
    "language_info": {
      "name": "python"
    }
  },
  "cells": [
    {
      "cell_type": "markdown",
      "metadata": {
        "id": "view-in-github",
        "colab_type": "text"
      },
      "source": [
        "<a href=\"https://colab.research.google.com/github/dhruvi4701/RosalindSolutions/blob/main/HW2.ipynb\" target=\"_parent\"><img src=\"https://colab.research.google.com/assets/colab-badge.svg\" alt=\"Open In Colab\"/></a>"
      ]
    },
    {
      "cell_type": "code",
      "source": [
        "seq= 'AGCTTTTCATTCTGACTGCAACGGGCAATATGTCTCTGTGTGGATTAAAAAAAGAGTGTCTGATAGCAGC'\n",
        "\n",
        "def ntd(seq):\n",
        "  count_a= seq.count('A')\n",
        "  count_c = seq.count('C')\n",
        "  count_g = seq.count('G')\n",
        "  count_t = seq.count('T')\n",
        "  print(f\"{count_a} {count_c} {count_g} {count_t}\")\n",
        "\n",
        "ntd(seq)\n",
        ""
      ],
      "metadata": {
        "colab": {
          "base_uri": "https://localhost:8080/"
        },
        "id": "PHQrdDzhEzri",
        "outputId": "90748a4e-4695-4c8c-c656-33ea6da2d8f2"
      },
      "execution_count": 13,
      "outputs": [
        {
          "output_type": "stream",
          "name": "stdout",
          "text": [
            "20 12 17 21\n"
          ]
        }
      ]
    },
    {
      "cell_type": "code",
      "source": [
        "#RNA\n",
        "def dna_to_rna(dna_string):\n",
        "    return dna_string.replace('T', 'U')\n",
        "\n",
        "dna_string = \"GATGGAACTTGACTACGTAAATT\"\n",
        "rna_string = dna_to_rna(dna_string)\n",
        "rna_string\n"
      ],
      "metadata": {
        "colab": {
          "base_uri": "https://localhost:8080/",
          "height": 35
        },
        "id": "uMX_MyAvtTux",
        "outputId": "ae5b704e-dcf5-41d0-a301-bac5fa1fd983"
      },
      "execution_count": 18,
      "outputs": [
        {
          "output_type": "execute_result",
          "data": {
            "text/plain": [
              "'GAUGGAACUUGACUACGUAAAUU'"
            ],
            "application/vnd.google.colaboratory.intrinsic+json": {
              "type": "string"
            }
          },
          "metadata": {},
          "execution_count": 18
        }
      ]
    },
    {
      "cell_type": "code",
      "source": [
        "#REVC\n",
        "def reverse_complement(dna_string):\n",
        "    complement = {'A': 'T', 'T': 'A', 'C': 'G', 'G': 'C'}\n",
        "    reversed_string = dna_string[::-1]\n",
        "    complement_string = \"\".join([complement[base] for base in reversed_string])\n",
        "    return complement_string\n",
        "\n",
        "dna_string = \"AAAACCCGGT\"\n",
        "result = reverse_complement(dna_string)\n",
        "result\n"
      ],
      "metadata": {
        "colab": {
          "base_uri": "https://localhost:8080/",
          "height": 35
        },
        "id": "r5YUeFfytrsZ",
        "outputId": "78541685-8771-4673-a708-3961ff7e678b"
      },
      "execution_count": 19,
      "outputs": [
        {
          "output_type": "execute_result",
          "data": {
            "text/plain": [
              "'ACCGGGTTTT'"
            ],
            "application/vnd.google.colaboratory.intrinsic+json": {
              "type": "string"
            }
          },
          "metadata": {},
          "execution_count": 19
        }
      ]
    }
  ]
}