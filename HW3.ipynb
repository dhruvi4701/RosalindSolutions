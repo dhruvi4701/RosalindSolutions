{
  "nbformat": 4,
  "nbformat_minor": 0,
  "metadata": {
    "colab": {
      "provenance": [],
      "authorship_tag": "ABX9TyNfvVTL1Z8EAyfyT6AmV8IO",
      "include_colab_link": true
    },
    "kernelspec": {
      "name": "python3",
      "display_name": "Python 3"
    },
    "language_info": {
      "name": "python"
    }
  },
  "cells": [
    {
      "cell_type": "markdown",
      "metadata": {
        "id": "view-in-github",
        "colab_type": "text"
      },
      "source": [
        "<a href=\"https://colab.research.google.com/github/dhruvi4701/RosalindSolutions/blob/main/HW3.ipynb\" target=\"_parent\"><img src=\"https://colab.research.google.com/assets/colab-badge.svg\" alt=\"Open In Colab\"/></a>"
      ]
    },
    {
      "cell_type": "code",
      "execution_count": 4,
      "metadata": {
        "colab": {
          "base_uri": "https://localhost:8080/"
        },
        "id": "PXfHvdyf4W0c",
        "outputId": "db793ecb-f591-4ef8-f60a-142be2809cf5"
      },
      "outputs": [
        {
          "output_type": "stream",
          "name": "stdout",
          "text": [
            "2 4 10\n"
          ]
        }
      ],
      "source": [
        "#SUBS\n",
        "def find_substring_locations(s, t):\n",
        "    locations = []\n",
        "    for i in range(len(s) - len(t) + 1):\n",
        "        if s[i:i + len(t)] == t:\n",
        "            locations.append(i + 1)  # Adjust to 1-based indexing\n",
        "    return locations\n",
        "\n",
        "s = \"GATATATGCATATACTT\"\n",
        "t = \"ATAT\"\n",
        "locations = find_substring_locations(s, t)\n",
        "print(*locations)\n"
      ]
    },
    {
      "cell_type": "code",
      "source": [
        "#PRTM\n",
        "def calculate_protein_weight(protein_string):\n",
        "    monoisotopic_masses = {\n",
        "        'A': 71.03711, 'C': 103.00919, 'D': 115.02694, 'E': 129.04259,\n",
        "        'F': 147.06841, 'G': 57.02146, 'H': 137.05891, 'I': 113.08406,\n",
        "        'K': 128.09496, 'L': 113.08406, 'M': 131.04049, 'N': 114.04293,\n",
        "        'P': 97.05276, 'Q': 128.05858, 'R': 156.10111, 'S': 87.03203,\n",
        "        'T': 101.04768, 'V': 99.06841, 'W': 186.07931, 'Y': 163.06333\n",
        "    }\n",
        "\n",
        "    total_weight = 0\n",
        "    for amino_acid in protein_string:\n",
        "        total_weight += monoisotopic_masses.get(amino_acid, 0)\n",
        "    return total_weight\n",
        "protein = \"SKADYEK\"\n",
        "weight = calculate_protein_weight(protein)\n",
        "weight\n"
      ],
      "metadata": {
        "colab": {
          "base_uri": "https://localhost:8080/"
        },
        "id": "dWgNyUEPfUZn",
        "outputId": "261430af-7690-462e-b178-e669b3d89bb6"
      },
      "execution_count": 3,
      "outputs": [
        {
          "output_type": "execute_result",
          "data": {
            "text/plain": [
              "821.3919199999999"
            ]
          },
          "metadata": {},
          "execution_count": 3
        }
      ]
    },
    {
      "cell_type": "code",
      "source": [
        "#REVP\n",
        "def reverse_complement(dna):\n",
        "    complement = {'A': 'T', 'T': 'A', 'C': 'G', 'G': 'C'}\n",
        "    return \"\".join(complement[base] for base in reversed(dna))\n",
        "\n",
        "def find_reverse_palindromes(dna):\n",
        "    palindromes = []\n",
        "    for i in range(len(dna)):\n",
        "        for length in range(4, 13):\n",
        "            if i + length <= len(dna):\n",
        "                substring = dna[i:i + length]\n",
        "                if substring == reverse_complement(substring):\n",
        "                    palindromes.append((i + 1, length))\n",
        "    return palindromes\n",
        "\n",
        "dna_string = \"TCAATGCATGCGGGTCTATATGCAT\"\n",
        "results = find_reverse_palindromes(dna_string)\n",
        "\n",
        "for position, length in results:\n",
        "    print(position, length)"
      ],
      "metadata": {
        "colab": {
          "base_uri": "https://localhost:8080/"
        },
        "id": "f--5-qC0oOvP",
        "outputId": "cc9ba6a5-1c4c-4d9c-dc6f-2e76155e2dd4"
      },
      "execution_count": 13,
      "outputs": [
        {
          "output_type": "stream",
          "name": "stdout",
          "text": [
            "4 6\n",
            "5 4\n",
            "6 6\n",
            "7 4\n",
            "17 4\n",
            "18 4\n",
            "20 6\n",
            "21 4\n"
          ]
        }
      ]
    },
    {
      "cell_type": "code",
      "source": [
        "#TRAN\n",
        "def calculate_transition_transversion_ratio(s1, s2):\n",
        "    transitions = 0\n",
        "    transversions = 0\n",
        "\n",
        "    for i in range(len(s1)):\n",
        "        if s1[i] != s2[i]:\n",
        "            if (s1[i] == 'A' and s2[i] == 'G') or (s1[i] == 'G' and s2[i] == 'A') or \\\n",
        "               (s1[i] == 'C' and s2[i] == 'T') or (s1[i] == 'T' and s2[i] == 'C'):\n",
        "                transitions += 1\n",
        "            else:\n",
        "                transversions += 1\n",
        "\n",
        "    if transversions == 0:\n",
        "        return 0\n",
        "\n",
        "    return transitions / transversions\n",
        "\n",
        "s1 = \"GCAACGCACAACGAAAACCCTTAGGGACTGGATTATTTCGTGATCGTTGTAGTTATTGGAAGTACGGGCATCAACCCAGTT\"\n",
        "s2 = \"TTATCTGACAAAGAAAGCCGTCAACGGCTGGATAATTTCGCGATCGTGCTGGTTACTGGCGGTACGAGTGTTCCTTTGGGT\"\n",
        "ratio = calculate_transition_transversion_ratio(s1, s2)\n",
        "ratio"
      ],
      "metadata": {
        "colab": {
          "base_uri": "https://localhost:8080/"
        },
        "id": "8FIgSw6Cose1",
        "outputId": "6f8c4941-b615-4cee-e17d-92b752ce7c3f"
      },
      "execution_count": 15,
      "outputs": [
        {
          "output_type": "execute_result",
          "data": {
            "text/plain": [
              "1.2142857142857142"
            ]
          },
          "metadata": {},
          "execution_count": 15
        }
      ]
    },
    {
      "cell_type": "code",
      "source": [
        "#LCSM\n",
        "def longest_common_substring(strings):\n",
        "    if not strings:\n",
        "        return\n",
        "\n",
        "    shortest_string = min(strings, key=len)\n",
        "    for length in range(len(shortest_string), 0, -1):\n",
        "        for i in range(len(shortest_string) - length + 1):\n",
        "            substring = shortest_string[i:i + length]\n",
        "            if all(substring in s for s in strings):\n",
        "                return substring\n",
        "    return\n",
        "\n",
        "\n",
        "# Example usage (replace with your FASTA file processing):\n",
        "# Assuming you have a list of DNA strings called 'dna_strings'\n",
        "dna_strings = [\n",
        "    \"GATTACA\",\n",
        "    \"TAGACCA\",\n",
        "    \"ATACA\" #Example addition\n",
        "]\n",
        "\n",
        "longest_substring = longest_common_substring(dna_strings)\n",
        "longest_substring\n"
      ],
      "metadata": {
        "colab": {
          "base_uri": "https://localhost:8080/",
          "height": 35
        },
        "id": "DLcKU1g1vLBh",
        "outputId": "7db713f6-a0a6-4206-85c8-95baae5d06c5"
      },
      "execution_count": 24,
      "outputs": [
        {
          "output_type": "execute_result",
          "data": {
            "text/plain": [
              "'TA'"
            ],
            "application/vnd.google.colaboratory.intrinsic+json": {
              "type": "string"
            }
          },
          "metadata": {},
          "execution_count": 24
        }
      ]
    }
  ]
}